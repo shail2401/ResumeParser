{
  "nbformat": 4,
  "nbformat_minor": 0,
  "metadata": {
    "colab": {
      "provenance": [],
      "authorship_tag": "ABX9TyMq0mh88CmFUT8eICrc0hEC",
      "include_colab_link": true
    },
    "kernelspec": {
      "name": "python3",
      "display_name": "Python 3"
    },
    "language_info": {
      "name": "python"
    }
  },
  "cells": [
    {
      "cell_type": "markdown",
      "metadata": {
        "id": "view-in-github",
        "colab_type": "text"
      },
      "source": [
        "<a href=\"https://colab.research.google.com/github/shail2401/ResumeParser/blob/main/Resume_str.ipynb\" target=\"_parent\"><img src=\"https://colab.research.google.com/assets/colab-badge.svg\" alt=\"Open In Colab\"/></a>"
      ]
    },
    {
      "cell_type": "code",
      "execution_count": 47,
      "metadata": {
        "id": "ki6Q7XGXEi0R"
      },
      "outputs": [],
      "source": [
        "import pandas as pd\n",
        "import nltk\n",
        "from nltk.tokenize import word_tokenize\n",
        "from nltk.tag import pos_tag"
      ]
    },
    {
      "cell_type": "code",
      "source": [
        "# Download NLTK resources if not already downloaded\n",
        "nltk.download('punkt')\n",
        "nltk.download('averaged_perceptron_tagger')\n",
        "nltk.download('maxent_ne_chunker')\n",
        "nltk.download('words')\n"
      ],
      "metadata": {
        "colab": {
          "base_uri": "https://localhost:8080/"
        },
        "id": "9o_cZt1THM_Q",
        "outputId": "b32b0709-59aa-48e6-b48b-1818ba3edd37"
      },
      "execution_count": 13,
      "outputs": [
        {
          "output_type": "stream",
          "name": "stderr",
          "text": [
            "[nltk_data] Downloading package punkt to /root/nltk_data...\n",
            "[nltk_data]   Unzipping tokenizers/punkt.zip.\n",
            "[nltk_data] Downloading package averaged_perceptron_tagger to\n",
            "[nltk_data]     /root/nltk_data...\n",
            "[nltk_data]   Unzipping taggers/averaged_perceptron_tagger.zip.\n",
            "[nltk_data] Downloading package maxent_ne_chunker to\n",
            "[nltk_data]     /root/nltk_data...\n",
            "[nltk_data]   Unzipping chunkers/maxent_ne_chunker.zip.\n",
            "[nltk_data] Downloading package words to /root/nltk_data...\n",
            "[nltk_data]   Unzipping corpora/words.zip.\n"
          ]
        },
        {
          "output_type": "execute_result",
          "data": {
            "text/plain": [
              "True"
            ]
          },
          "metadata": {},
          "execution_count": 13
        }
      ]
    },
    {
      "cell_type": "code",
      "source": [
        "resumeDataSet = pd.read_csv('Resume.csv', encoding='latin1')\n",
        "resumeDataSet['Cleaned_Resume'] = ' '\n",
        "resumeDataSet.head()"
      ],
      "metadata": {
        "colab": {
          "base_uri": "https://localhost:8080/",
          "height": 620
        },
        "id": "xgwCyocFmMXI",
        "outputId": "968c9ce0-5632-4c5e-f006-fda4115598b3"
      },
      "execution_count": 50,
      "outputs": [
        {
          "output_type": "execute_result",
          "data": {
            "text/plain": [
              "         ID                                         Resume_str  \\\n",
              "0  16852973           HR ADMINISTRATOR/MARKETING ASSOCIATE\\...   \n",
              "1  22323967           HR SPECIALIST, US HR OPERATIONS      ...   \n",
              "2  33176873           HR DIRECTOR       Summary      Over 2...   \n",
              "3  27018550           HR SPECIALIST       Summary    Dedica...   \n",
              "4  17812897           HR MANAGER         Skill Highlights  ...   \n",
              "\n",
              "                                         Resume_html Category Unnamed: 4  \\\n",
              "0  <div class=\"fontsize fontface vmargins hmargin...       HR        NaN   \n",
              "1  <div class=\"fontsize fontface vmargins hmargin...       HR        NaN   \n",
              "2  <div class=\"fontsize fontface vmargins hmargin...       HR        NaN   \n",
              "3  <div class=\"fontsize fontface vmargins hmargin...       HR        NaN   \n",
              "4  <div class=\"fontsize fontface vmargins hmargin...       HR        NaN   \n",
              "\n",
              "  Unnamed: 5 Unnamed: 6 Unnamed: 7 Unnamed: 8 Unnamed: 9  ... Unnamed: 160  \\\n",
              "0        NaN        NaN        NaN        NaN        NaN  ...          NaN   \n",
              "1        NaN        NaN        NaN        NaN        NaN  ...          NaN   \n",
              "2        NaN        NaN        NaN        NaN        NaN  ...          NaN   \n",
              "3        NaN        NaN        NaN        NaN        NaN  ...          NaN   \n",
              "4        NaN        NaN        NaN        NaN        NaN  ...          NaN   \n",
              "\n",
              "  Unnamed: 161 Unnamed: 162 Unnamed: 163 Unnamed: 164 Unnamed: 165  \\\n",
              "0          NaN          NaN          NaN          NaN          NaN   \n",
              "1          NaN          NaN          NaN          NaN          NaN   \n",
              "2          NaN          NaN          NaN          NaN          NaN   \n",
              "3          NaN          NaN          NaN          NaN          NaN   \n",
              "4          NaN          NaN          NaN          NaN          NaN   \n",
              "\n",
              "  Unnamed: 166 Unnamed: 167 Unnamed: 168 Cleaned_Resume  \n",
              "0          NaN          NaN          NaN                 \n",
              "1          NaN          NaN          NaN                 \n",
              "2          NaN          NaN          NaN                 \n",
              "3          NaN          NaN          NaN                 \n",
              "4          NaN          NaN          NaN                 \n",
              "\n",
              "[5 rows x 170 columns]"
            ],
            "text/html": [
              "\n",
              "  <div id=\"df-c6b6298c-867f-41c9-9f3b-7329d3f44577\" class=\"colab-df-container\">\n",
              "    <div>\n",
              "<style scoped>\n",
              "    .dataframe tbody tr th:only-of-type {\n",
              "        vertical-align: middle;\n",
              "    }\n",
              "\n",
              "    .dataframe tbody tr th {\n",
              "        vertical-align: top;\n",
              "    }\n",
              "\n",
              "    .dataframe thead th {\n",
              "        text-align: right;\n",
              "    }\n",
              "</style>\n",
              "<table border=\"1\" class=\"dataframe\">\n",
              "  <thead>\n",
              "    <tr style=\"text-align: right;\">\n",
              "      <th></th>\n",
              "      <th>ID</th>\n",
              "      <th>Resume_str</th>\n",
              "      <th>Resume_html</th>\n",
              "      <th>Category</th>\n",
              "      <th>Unnamed: 4</th>\n",
              "      <th>Unnamed: 5</th>\n",
              "      <th>Unnamed: 6</th>\n",
              "      <th>Unnamed: 7</th>\n",
              "      <th>Unnamed: 8</th>\n",
              "      <th>Unnamed: 9</th>\n",
              "      <th>...</th>\n",
              "      <th>Unnamed: 160</th>\n",
              "      <th>Unnamed: 161</th>\n",
              "      <th>Unnamed: 162</th>\n",
              "      <th>Unnamed: 163</th>\n",
              "      <th>Unnamed: 164</th>\n",
              "      <th>Unnamed: 165</th>\n",
              "      <th>Unnamed: 166</th>\n",
              "      <th>Unnamed: 167</th>\n",
              "      <th>Unnamed: 168</th>\n",
              "      <th>Cleaned_Resume</th>\n",
              "    </tr>\n",
              "  </thead>\n",
              "  <tbody>\n",
              "    <tr>\n",
              "      <th>0</th>\n",
              "      <td>16852973</td>\n",
              "      <td>HR ADMINISTRATOR/MARKETING ASSOCIATE\\...</td>\n",
              "      <td>&lt;div class=\"fontsize fontface vmargins hmargin...</td>\n",
              "      <td>HR</td>\n",
              "      <td>NaN</td>\n",
              "      <td>NaN</td>\n",
              "      <td>NaN</td>\n",
              "      <td>NaN</td>\n",
              "      <td>NaN</td>\n",
              "      <td>NaN</td>\n",
              "      <td>...</td>\n",
              "      <td>NaN</td>\n",
              "      <td>NaN</td>\n",
              "      <td>NaN</td>\n",
              "      <td>NaN</td>\n",
              "      <td>NaN</td>\n",
              "      <td>NaN</td>\n",
              "      <td>NaN</td>\n",
              "      <td>NaN</td>\n",
              "      <td>NaN</td>\n",
              "      <td></td>\n",
              "    </tr>\n",
              "    <tr>\n",
              "      <th>1</th>\n",
              "      <td>22323967</td>\n",
              "      <td>HR SPECIALIST, US HR OPERATIONS      ...</td>\n",
              "      <td>&lt;div class=\"fontsize fontface vmargins hmargin...</td>\n",
              "      <td>HR</td>\n",
              "      <td>NaN</td>\n",
              "      <td>NaN</td>\n",
              "      <td>NaN</td>\n",
              "      <td>NaN</td>\n",
              "      <td>NaN</td>\n",
              "      <td>NaN</td>\n",
              "      <td>...</td>\n",
              "      <td>NaN</td>\n",
              "      <td>NaN</td>\n",
              "      <td>NaN</td>\n",
              "      <td>NaN</td>\n",
              "      <td>NaN</td>\n",
              "      <td>NaN</td>\n",
              "      <td>NaN</td>\n",
              "      <td>NaN</td>\n",
              "      <td>NaN</td>\n",
              "      <td></td>\n",
              "    </tr>\n",
              "    <tr>\n",
              "      <th>2</th>\n",
              "      <td>33176873</td>\n",
              "      <td>HR DIRECTOR       Summary      Over 2...</td>\n",
              "      <td>&lt;div class=\"fontsize fontface vmargins hmargin...</td>\n",
              "      <td>HR</td>\n",
              "      <td>NaN</td>\n",
              "      <td>NaN</td>\n",
              "      <td>NaN</td>\n",
              "      <td>NaN</td>\n",
              "      <td>NaN</td>\n",
              "      <td>NaN</td>\n",
              "      <td>...</td>\n",
              "      <td>NaN</td>\n",
              "      <td>NaN</td>\n",
              "      <td>NaN</td>\n",
              "      <td>NaN</td>\n",
              "      <td>NaN</td>\n",
              "      <td>NaN</td>\n",
              "      <td>NaN</td>\n",
              "      <td>NaN</td>\n",
              "      <td>NaN</td>\n",
              "      <td></td>\n",
              "    </tr>\n",
              "    <tr>\n",
              "      <th>3</th>\n",
              "      <td>27018550</td>\n",
              "      <td>HR SPECIALIST       Summary    Dedica...</td>\n",
              "      <td>&lt;div class=\"fontsize fontface vmargins hmargin...</td>\n",
              "      <td>HR</td>\n",
              "      <td>NaN</td>\n",
              "      <td>NaN</td>\n",
              "      <td>NaN</td>\n",
              "      <td>NaN</td>\n",
              "      <td>NaN</td>\n",
              "      <td>NaN</td>\n",
              "      <td>...</td>\n",
              "      <td>NaN</td>\n",
              "      <td>NaN</td>\n",
              "      <td>NaN</td>\n",
              "      <td>NaN</td>\n",
              "      <td>NaN</td>\n",
              "      <td>NaN</td>\n",
              "      <td>NaN</td>\n",
              "      <td>NaN</td>\n",
              "      <td>NaN</td>\n",
              "      <td></td>\n",
              "    </tr>\n",
              "    <tr>\n",
              "      <th>4</th>\n",
              "      <td>17812897</td>\n",
              "      <td>HR MANAGER         Skill Highlights  ...</td>\n",
              "      <td>&lt;div class=\"fontsize fontface vmargins hmargin...</td>\n",
              "      <td>HR</td>\n",
              "      <td>NaN</td>\n",
              "      <td>NaN</td>\n",
              "      <td>NaN</td>\n",
              "      <td>NaN</td>\n",
              "      <td>NaN</td>\n",
              "      <td>NaN</td>\n",
              "      <td>...</td>\n",
              "      <td>NaN</td>\n",
              "      <td>NaN</td>\n",
              "      <td>NaN</td>\n",
              "      <td>NaN</td>\n",
              "      <td>NaN</td>\n",
              "      <td>NaN</td>\n",
              "      <td>NaN</td>\n",
              "      <td>NaN</td>\n",
              "      <td>NaN</td>\n",
              "      <td></td>\n",
              "    </tr>\n",
              "  </tbody>\n",
              "</table>\n",
              "<p>5 rows × 170 columns</p>\n",
              "</div>\n",
              "    <div class=\"colab-df-buttons\">\n",
              "\n",
              "  <div class=\"colab-df-container\">\n",
              "    <button class=\"colab-df-convert\" onclick=\"convertToInteractive('df-c6b6298c-867f-41c9-9f3b-7329d3f44577')\"\n",
              "            title=\"Convert this dataframe to an interactive table.\"\n",
              "            style=\"display:none;\">\n",
              "\n",
              "  <svg xmlns=\"http://www.w3.org/2000/svg\" height=\"24px\" viewBox=\"0 -960 960 960\">\n",
              "    <path d=\"M120-120v-720h720v720H120Zm60-500h600v-160H180v160Zm220 220h160v-160H400v160Zm0 220h160v-160H400v160ZM180-400h160v-160H180v160Zm440 0h160v-160H620v160ZM180-180h160v-160H180v160Zm440 0h160v-160H620v160Z\"/>\n",
              "  </svg>\n",
              "    </button>\n",
              "\n",
              "  <style>\n",
              "    .colab-df-container {\n",
              "      display:flex;\n",
              "      gap: 12px;\n",
              "    }\n",
              "\n",
              "    .colab-df-convert {\n",
              "      background-color: #E8F0FE;\n",
              "      border: none;\n",
              "      border-radius: 50%;\n",
              "      cursor: pointer;\n",
              "      display: none;\n",
              "      fill: #1967D2;\n",
              "      height: 32px;\n",
              "      padding: 0 0 0 0;\n",
              "      width: 32px;\n",
              "    }\n",
              "\n",
              "    .colab-df-convert:hover {\n",
              "      background-color: #E2EBFA;\n",
              "      box-shadow: 0px 1px 2px rgba(60, 64, 67, 0.3), 0px 1px 3px 1px rgba(60, 64, 67, 0.15);\n",
              "      fill: #174EA6;\n",
              "    }\n",
              "\n",
              "    .colab-df-buttons div {\n",
              "      margin-bottom: 4px;\n",
              "    }\n",
              "\n",
              "    [theme=dark] .colab-df-convert {\n",
              "      background-color: #3B4455;\n",
              "      fill: #D2E3FC;\n",
              "    }\n",
              "\n",
              "    [theme=dark] .colab-df-convert:hover {\n",
              "      background-color: #434B5C;\n",
              "      box-shadow: 0px 1px 3px 1px rgba(0, 0, 0, 0.15);\n",
              "      filter: drop-shadow(0px 1px 2px rgba(0, 0, 0, 0.3));\n",
              "      fill: #FFFFFF;\n",
              "    }\n",
              "  </style>\n",
              "\n",
              "    <script>\n",
              "      const buttonEl =\n",
              "        document.querySelector('#df-c6b6298c-867f-41c9-9f3b-7329d3f44577 button.colab-df-convert');\n",
              "      buttonEl.style.display =\n",
              "        google.colab.kernel.accessAllowed ? 'block' : 'none';\n",
              "\n",
              "      async function convertToInteractive(key) {\n",
              "        const element = document.querySelector('#df-c6b6298c-867f-41c9-9f3b-7329d3f44577');\n",
              "        const dataTable =\n",
              "          await google.colab.kernel.invokeFunction('convertToInteractive',\n",
              "                                                    [key], {});\n",
              "        if (!dataTable) return;\n",
              "\n",
              "        const docLinkHtml = 'Like what you see? Visit the ' +\n",
              "          '<a target=\"_blank\" href=https://colab.research.google.com/notebooks/data_table.ipynb>data table notebook</a>'\n",
              "          + ' to learn more about interactive tables.';\n",
              "        element.innerHTML = '';\n",
              "        dataTable['output_type'] = 'display_data';\n",
              "        await google.colab.output.renderOutput(dataTable, element);\n",
              "        const docLink = document.createElement('div');\n",
              "        docLink.innerHTML = docLinkHtml;\n",
              "        element.appendChild(docLink);\n",
              "      }\n",
              "    </script>\n",
              "  </div>\n",
              "\n",
              "\n",
              "<div id=\"df-5c882633-91d0-4b0c-b83f-350dfa4e3ec9\">\n",
              "  <button class=\"colab-df-quickchart\" onclick=\"quickchart('df-5c882633-91d0-4b0c-b83f-350dfa4e3ec9')\"\n",
              "            title=\"Suggest charts\"\n",
              "            style=\"display:none;\">\n",
              "\n",
              "<svg xmlns=\"http://www.w3.org/2000/svg\" height=\"24px\"viewBox=\"0 0 24 24\"\n",
              "     width=\"24px\">\n",
              "    <g>\n",
              "        <path d=\"M19 3H5c-1.1 0-2 .9-2 2v14c0 1.1.9 2 2 2h14c1.1 0 2-.9 2-2V5c0-1.1-.9-2-2-2zM9 17H7v-7h2v7zm4 0h-2V7h2v10zm4 0h-2v-4h2v4z\"/>\n",
              "    </g>\n",
              "</svg>\n",
              "  </button>\n",
              "\n",
              "<style>\n",
              "  .colab-df-quickchart {\n",
              "      --bg-color: #E8F0FE;\n",
              "      --fill-color: #1967D2;\n",
              "      --hover-bg-color: #E2EBFA;\n",
              "      --hover-fill-color: #174EA6;\n",
              "      --disabled-fill-color: #AAA;\n",
              "      --disabled-bg-color: #DDD;\n",
              "  }\n",
              "\n",
              "  [theme=dark] .colab-df-quickchart {\n",
              "      --bg-color: #3B4455;\n",
              "      --fill-color: #D2E3FC;\n",
              "      --hover-bg-color: #434B5C;\n",
              "      --hover-fill-color: #FFFFFF;\n",
              "      --disabled-bg-color: #3B4455;\n",
              "      --disabled-fill-color: #666;\n",
              "  }\n",
              "\n",
              "  .colab-df-quickchart {\n",
              "    background-color: var(--bg-color);\n",
              "    border: none;\n",
              "    border-radius: 50%;\n",
              "    cursor: pointer;\n",
              "    display: none;\n",
              "    fill: var(--fill-color);\n",
              "    height: 32px;\n",
              "    padding: 0;\n",
              "    width: 32px;\n",
              "  }\n",
              "\n",
              "  .colab-df-quickchart:hover {\n",
              "    background-color: var(--hover-bg-color);\n",
              "    box-shadow: 0 1px 2px rgba(60, 64, 67, 0.3), 0 1px 3px 1px rgba(60, 64, 67, 0.15);\n",
              "    fill: var(--button-hover-fill-color);\n",
              "  }\n",
              "\n",
              "  .colab-df-quickchart-complete:disabled,\n",
              "  .colab-df-quickchart-complete:disabled:hover {\n",
              "    background-color: var(--disabled-bg-color);\n",
              "    fill: var(--disabled-fill-color);\n",
              "    box-shadow: none;\n",
              "  }\n",
              "\n",
              "  .colab-df-spinner {\n",
              "    border: 2px solid var(--fill-color);\n",
              "    border-color: transparent;\n",
              "    border-bottom-color: var(--fill-color);\n",
              "    animation:\n",
              "      spin 1s steps(1) infinite;\n",
              "  }\n",
              "\n",
              "  @keyframes spin {\n",
              "    0% {\n",
              "      border-color: transparent;\n",
              "      border-bottom-color: var(--fill-color);\n",
              "      border-left-color: var(--fill-color);\n",
              "    }\n",
              "    20% {\n",
              "      border-color: transparent;\n",
              "      border-left-color: var(--fill-color);\n",
              "      border-top-color: var(--fill-color);\n",
              "    }\n",
              "    30% {\n",
              "      border-color: transparent;\n",
              "      border-left-color: var(--fill-color);\n",
              "      border-top-color: var(--fill-color);\n",
              "      border-right-color: var(--fill-color);\n",
              "    }\n",
              "    40% {\n",
              "      border-color: transparent;\n",
              "      border-right-color: var(--fill-color);\n",
              "      border-top-color: var(--fill-color);\n",
              "    }\n",
              "    60% {\n",
              "      border-color: transparent;\n",
              "      border-right-color: var(--fill-color);\n",
              "    }\n",
              "    80% {\n",
              "      border-color: transparent;\n",
              "      border-right-color: var(--fill-color);\n",
              "      border-bottom-color: var(--fill-color);\n",
              "    }\n",
              "    90% {\n",
              "      border-color: transparent;\n",
              "      border-bottom-color: var(--fill-color);\n",
              "    }\n",
              "  }\n",
              "</style>\n",
              "\n",
              "  <script>\n",
              "    async function quickchart(key) {\n",
              "      const quickchartButtonEl =\n",
              "        document.querySelector('#' + key + ' button');\n",
              "      quickchartButtonEl.disabled = true;  // To prevent multiple clicks.\n",
              "      quickchartButtonEl.classList.add('colab-df-spinner');\n",
              "      try {\n",
              "        const charts = await google.colab.kernel.invokeFunction(\n",
              "            'suggestCharts', [key], {});\n",
              "      } catch (error) {\n",
              "        console.error('Error during call to suggestCharts:', error);\n",
              "      }\n",
              "      quickchartButtonEl.classList.remove('colab-df-spinner');\n",
              "      quickchartButtonEl.classList.add('colab-df-quickchart-complete');\n",
              "    }\n",
              "    (() => {\n",
              "      let quickchartButtonEl =\n",
              "        document.querySelector('#df-5c882633-91d0-4b0c-b83f-350dfa4e3ec9 button');\n",
              "      quickchartButtonEl.style.display =\n",
              "        google.colab.kernel.accessAllowed ? 'block' : 'none';\n",
              "    })();\n",
              "  </script>\n",
              "</div>\n",
              "\n",
              "    </div>\n",
              "  </div>\n"
            ],
            "application/vnd.google.colaboratory.intrinsic+json": {
              "type": "dataframe",
              "variable_name": "resumeDataSet"
            }
          },
          "metadata": {},
          "execution_count": 50
        }
      ]
    },
    {
      "cell_type": "code",
      "source": [
        "# Save the modified DataFrame to a new CSV file\n",
        "resumeDataSet.to_csv('preprocessed_dataset.csv', index=False)"
      ],
      "metadata": {
        "id": "5GICKVcimhW3"
      },
      "execution_count": 51,
      "outputs": []
    },
    {
      "cell_type": "code",
      "source": [
        "# Define categories and associated skills\n",
        "category_skills = {\n",
        "    'INFORMATION-TECHNOLOGY': ['python', 'java', 'sql', 'javascript', 'html', 'css', 'git', 'docker', 'aws'],\n",
        "    'BUSINESS-DEVELOPMENT': ['sales', 'marketing', 'business strategy', 'customer relations', 'negotiation'],\n",
        "    'FINANCE': ['accounting', 'financial analysis', 'budgeting', 'auditing', 'risk management', 'investment'],\n",
        "    'ADVOCATE': ['legal research', 'litigation', 'legal writing', 'contract negotiation', 'legal advice'],\n",
        "    'ACCOUNTANT': ['accounting', 'bookkeeping', 'financial reporting', 'taxation', 'auditing'],\n",
        "    'ENGINEERING': ['mechanical engineering', 'electrical engineering', 'civil engineering', 'software engineering', 'project management'],\n",
        "    'AVIATION': ['pilot', 'aircraft maintenance', 'air traffic control', 'aviation safety', 'flight operations'],\n",
        "    'FITNESS': ['personal training', 'nutrition', 'exercise physiology', 'fitness coaching', 'strength training'],\n",
        "    'CHEF': ['culinary arts', 'food safety', 'menu planning', 'culinary techniques', 'restaurant management'],\n",
        "    'SALES': ['sales strategy', 'customer relationship management', 'negotiation', 'prospecting', 'cold calling'],\n",
        "    'BANKING': ['banking operations', 'financial services', 'credit analysis', 'loan processing', 'risk management'],\n",
        "    'HEALTHCARE': ['medical terminology', 'patient care', 'medical coding', 'healthcare administration', 'nursing'],\n",
        "    'CONSULTANT': ['management consulting', 'business analysis', 'strategy consulting', 'market research', 'project management'],\n",
        "    'CONSTRUCTION': ['construction management', 'building codes', 'project management', 'construction safety', 'estimating'],\n",
        "    'PUBLIC-RELATIONS': ['media relations', 'public speaking', 'press releases', 'event planning', 'crisis management'],\n",
        "    'HR': ['recruitment', 'employee relations', 'performance management', 'training and development', 'human resources management'],\n",
        "    'DESIGNER': ['graphic design', 'web design', 'user experience design', 'creative thinking', 'branding'],\n",
        "    'ARTS': ['fine arts', 'performing arts', 'visual arts', 'art history', 'creative expression'],\n",
        "    'TEACHER': ['lesson planning', 'curriculum development', 'classroom management', 'educational technology', 'student assessment'],\n",
        "    'APPAREL': ['fashion design', 'textile design', 'garment construction', 'fashion merchandising', 'fashion marketing'],\n",
        "    'DIGITAL-MEDIA': ['social media marketing', 'content creation', 'digital advertising', 'video production', 'content strategy'],\n",
        "    'AGRICULTURE': ['crop management', 'livestock management', 'agribusiness', 'sustainable agriculture', 'farm equipment operation'],\n",
        "    'AUTOMOBILE': ['automotive repair', 'vehicle maintenance', 'automotive engineering', 'automotive technology', 'vehicle diagnostics'],\n",
        "    'BPO': ['business process outsourcing', 'customer service', 'data entry', 'call center operations', 'quality assurance']\n",
        "}\n"
      ],
      "metadata": {
        "id": "ApYGuuogLEmo"
      },
      "execution_count": 36,
      "outputs": []
    },
    {
      "cell_type": "code",
      "source": [
        "# Load the dataset\n",
        "resume_data = pd.read_csv('preprocessed_dataset.csv')"
      ],
      "metadata": {
        "id": "s9MpmbmmElkt"
      },
      "execution_count": 2,
      "outputs": []
    },
    {
      "cell_type": "code",
      "source": [
        "from google.colab import files\n",
        "files.download('preprocessed_dataset.csv')"
      ],
      "metadata": {
        "colab": {
          "base_uri": "https://localhost:8080/",
          "height": 17
        },
        "id": "vDt-QZNGmvH0",
        "outputId": "cb9c931c-2c5b-4b24-e4cb-003f5c95727e"
      },
      "execution_count": 52,
      "outputs": [
        {
          "output_type": "display_data",
          "data": {
            "text/plain": [
              "<IPython.core.display.Javascript object>"
            ],
            "application/javascript": [
              "\n",
              "    async function download(id, filename, size) {\n",
              "      if (!google.colab.kernel.accessAllowed) {\n",
              "        return;\n",
              "      }\n",
              "      const div = document.createElement('div');\n",
              "      const label = document.createElement('label');\n",
              "      label.textContent = `Downloading \"${filename}\": `;\n",
              "      div.appendChild(label);\n",
              "      const progress = document.createElement('progress');\n",
              "      progress.max = size;\n",
              "      div.appendChild(progress);\n",
              "      document.body.appendChild(div);\n",
              "\n",
              "      const buffers = [];\n",
              "      let downloaded = 0;\n",
              "\n",
              "      const channel = await google.colab.kernel.comms.open(id);\n",
              "      // Send a message to notify the kernel that we're ready.\n",
              "      channel.send({})\n",
              "\n",
              "      for await (const message of channel.messages) {\n",
              "        // Send a message to notify the kernel that we're ready.\n",
              "        channel.send({})\n",
              "        if (message.buffers) {\n",
              "          for (const buffer of message.buffers) {\n",
              "            buffers.push(buffer);\n",
              "            downloaded += buffer.byteLength;\n",
              "            progress.value = downloaded;\n",
              "          }\n",
              "        }\n",
              "      }\n",
              "      const blob = new Blob(buffers, {type: 'application/binary'});\n",
              "      const a = document.createElement('a');\n",
              "      a.href = window.URL.createObjectURL(blob);\n",
              "      a.download = filename;\n",
              "      div.appendChild(a);\n",
              "      a.click();\n",
              "      div.remove();\n",
              "    }\n",
              "  "
            ]
          },
          "metadata": {}
        },
        {
          "output_type": "display_data",
          "data": {
            "text/plain": [
              "<IPython.core.display.Javascript object>"
            ],
            "application/javascript": [
              "download(\"download_82de676c-0d44-4313-975d-1c6b8cb7f98c\", \"preprocessed_dataset.csv\", 57157835)"
            ]
          },
          "metadata": {}
        }
      ]
    },
    {
      "cell_type": "code",
      "source": [
        "# Initialize a dictionary to store results\n",
        "results = {'Category': [], 'Skills': [], 'Num_Resumes_with_Skill': []}\n"
      ],
      "metadata": {
        "id": "ezNXIogBOlKL"
      },
      "execution_count": 37,
      "outputs": []
    },
    {
      "cell_type": "code",
      "source": [
        "def extract_skills(text):\n",
        "    # Check if the input is a string-like object\n",
        "    if isinstance(text, str):\n",
        "        # Tokenize words and perform Part-of-Speech (POS) tagging\n",
        "        words = word_tokenize(text)\n",
        "        tagged_words = pos_tag(words)\n",
        "\n",
        "        # Initialize an empty list to store skills\n",
        "        skills = []\n",
        "\n",
        "        # Iterate through tagged words to identify nouns (NN) and proper nouns (NNP)\n",
        "        for word, tag in tagged_words:\n",
        "            if tag in ['NN', 'NNP']:  # If word is a noun or proper noun\n",
        "                skills.append(word)\n",
        "\n",
        "        return skills\n",
        "    else:\n",
        "        # If input is not a string, return an empty list\n",
        "        return []\n"
      ],
      "metadata": {
        "id": "kGsI_1KXEpG_"
      },
      "execution_count": 33,
      "outputs": []
    },
    {
      "cell_type": "code",
      "source": [
        "# Display the DataFrame with extracted skills\n",
        "print(resume_data.head())"
      ],
      "metadata": {
        "colab": {
          "base_uri": "https://localhost:8080/"
        },
        "id": "GNwN5QKWEvEt",
        "outputId": "97ed1657-0457-48c7-8cb8-fe83e6c9c4ce"
      },
      "execution_count": 6,
      "outputs": [
        {
          "output_type": "stream",
          "name": "stdout",
          "text": [
            "         ID                                         Resume_str  \\\n",
            "0  16852973  hr administratormarketing associate hr adminis...   \n",
            "1  22323967  hr specialist us hr operations summary versati...   \n",
            "2  33176873  hr director summary over 20 years experience i...   \n",
            "3  27018550  hr specialist summary dedicated driven and dyn...   \n",
            "4  17812897  hr manager skill highlights hr skills hr depar...   \n",
            "\n",
            "                                         Resume_html Category  \n",
            "0  hr administratormarketing associate hr adminis...       HR  \n",
            "1  hr specialist us hr operations summary versati...       HR  \n",
            "2  hr director summary over 20 years experience i...       HR  \n",
            "3  hr specialist summary dedicated driven and dyn...       HR  \n",
            "4  hr manager skill highlights hr skills hr depar...       HR  \n"
          ]
        }
      ]
    },
    {
      "cell_type": "code",
      "source": [
        "# Function to extract skills based on category\n",
        "def extract_category_skills(text, category):\n",
        "    skills = []\n",
        "    category_skills_list = category_skills.get(category, [])  # Get skills for the specific category\n",
        "    # Extract skills from the text based on the category-specific skill list\n",
        "    for skill in category_skills_list:\n",
        "        if skill.lower() in text.lower():  # Case-insensitive match\n",
        "            skills.append(skill)\n",
        "    return skills"
      ],
      "metadata": {
        "id": "Rq8LMrV5LHR0"
      },
      "execution_count": 24,
      "outputs": []
    },
    {
      "cell_type": "code",
      "source": [
        "# Iterate over categories\n",
        "for category, skills in category_skills.items():\n",
        "    # Filter the dataframe for the current category\n",
        "    category_data = resume_data[resume_data['Category'] == category]\n",
        "\n",
        "    # Iterate over skills for the current category\n",
        "    for skill in skills:\n",
        "        # Count the number of resumes containing the current skill\n",
        "        num_resumes_with_skill = category_data['Resume_str'].str.contains(skill, case=False, na=False).sum()\n",
        "\n",
        "        # Append results to the dictionary\n",
        "        results['Category'].append(category)\n",
        "        results['Skills'].append(skill)\n",
        "        results['Num_Resumes_with_Skill'].append(num_resumes_with_skill)\n"
      ],
      "metadata": {
        "id": "2BSGDYabOttT"
      },
      "execution_count": 38,
      "outputs": []
    },
    {
      "cell_type": "code",
      "source": [
        "# Save the DataFrame to a CSV file\n",
        "results_df.to_csv('skills_count_category.csv', index=False)\n"
      ],
      "metadata": {
        "id": "8l1pAty-Oz0x"
      },
      "execution_count": 40,
      "outputs": []
    },
    {
      "cell_type": "code",
      "source": [
        "# Convert results to DataFrame\n",
        "results_df = pd.DataFrame(results)\n"
      ],
      "metadata": {
        "id": "XC9RZIdIOxXI"
      },
      "execution_count": 39,
      "outputs": []
    },
    {
      "cell_type": "code",
      "source": [
        "# Display the categories and the number of resumes belonging to each category\n",
        "print('Displaying the categories and the number of resumes belonging to each category:')\n",
        "print(category_counts_df)"
      ],
      "metadata": {
        "colab": {
          "base_uri": "https://localhost:8080/"
        },
        "id": "CWGnGx2cHwqT",
        "outputId": "26526eca-dcec-4ecd-a6cf-a62ee43ff180"
      },
      "execution_count": 18,
      "outputs": [
        {
          "output_type": "stream",
          "name": "stdout",
          "text": [
            "Displaying the categories and the number of resumes belonging to each category:\n",
            "                  Category  Category_Count\n",
            "0   INFORMATION-TECHNOLOGY             120\n",
            "1     BUSINESS-DEVELOPMENT             120\n",
            "2                  FINANCE             118\n",
            "3                 ADVOCATE             118\n",
            "4               ACCOUNTANT             118\n",
            "5              ENGINEERING             118\n",
            "6                 AVIATION             117\n",
            "7                  FITNESS             117\n",
            "8                     CHEF             117\n",
            "9                    SALES             116\n",
            "10                 BANKING             115\n",
            "11              HEALTHCARE             115\n",
            "12              CONSULTANT             115\n",
            "13            CONSTRUCTION             112\n",
            "14        PUBLIC-RELATIONS             110\n",
            "15                      HR             110\n",
            "16                DESIGNER             107\n",
            "17                    ARTS             103\n",
            "18                 TEACHER             102\n",
            "19                 APPAREL              97\n",
            "20           DIGITAL-MEDIA              96\n",
            "21             AGRICULTURE              63\n",
            "22              AUTOMOBILE              36\n",
            "23                     BPO              22\n"
          ]
        }
      ]
    },
    {
      "cell_type": "code",
      "source": [
        "# Example DataFrame with 'Resume_str' column\n",
        "data = {'Resume_str': ['I am proficient in Python, Java, and SQL. I have experience with machine learning and data analysis.']}"
      ],
      "metadata": {
        "id": "KHUHsYrrHCVK"
      },
      "execution_count": 10,
      "outputs": []
    },
    {
      "cell_type": "code",
      "source": [
        "# Convert value counts to a DataFrame\n",
        "category_counts_df = category_counts.reset_index()\n",
        "category_counts_df.columns = ['Category', 'Category_Count']\n"
      ],
      "metadata": {
        "id": "AiKxjxkVHuSd"
      },
      "execution_count": 17,
      "outputs": []
    },
    {
      "cell_type": "code",
      "source": [
        "df = pd.DataFrame(data)"
      ],
      "metadata": {
        "id": "YzjkYvOkHERr"
      },
      "execution_count": 11,
      "outputs": []
    },
    {
      "cell_type": "code",
      "source": [
        "# Apply the extract_skills function to each resume\n",
        "df['Skills'] = df['Resume_str'].apply(extract_skills)"
      ],
      "metadata": {
        "id": "KMLou2PKHFyM"
      },
      "execution_count": 14,
      "outputs": []
    },
    {
      "cell_type": "code",
      "source": [
        "# Count the number of resumes containing each skill\n",
        "skills_count = df['Skills'].explode().value_counts().reset_index()\n",
        "skills_count.columns = ['Skill', 'Count']"
      ],
      "metadata": {
        "id": "icGOOIe5Jt1p"
      },
      "execution_count": 21,
      "outputs": []
    },
    {
      "cell_type": "code",
      "source": [
        "from google.colab import files\n",
        "# Save the result to a CSV file\n",
        "skills_count.to_csv('skills_count.csv', index=False)\n",
        "\n",
        "# Download the CSV file\n",
        "files.download('skills_count.csv')"
      ],
      "metadata": {
        "colab": {
          "base_uri": "https://localhost:8080/",
          "height": 17
        },
        "id": "Ms9G7BOyJxoB",
        "outputId": "b3a1c9fc-badb-42d6-9ad0-0c9830164cbb"
      },
      "execution_count": 22,
      "outputs": [
        {
          "output_type": "display_data",
          "data": {
            "text/plain": [
              "<IPython.core.display.Javascript object>"
            ],
            "application/javascript": [
              "\n",
              "    async function download(id, filename, size) {\n",
              "      if (!google.colab.kernel.accessAllowed) {\n",
              "        return;\n",
              "      }\n",
              "      const div = document.createElement('div');\n",
              "      const label = document.createElement('label');\n",
              "      label.textContent = `Downloading \"${filename}\": `;\n",
              "      div.appendChild(label);\n",
              "      const progress = document.createElement('progress');\n",
              "      progress.max = size;\n",
              "      div.appendChild(progress);\n",
              "      document.body.appendChild(div);\n",
              "\n",
              "      const buffers = [];\n",
              "      let downloaded = 0;\n",
              "\n",
              "      const channel = await google.colab.kernel.comms.open(id);\n",
              "      // Send a message to notify the kernel that we're ready.\n",
              "      channel.send({})\n",
              "\n",
              "      for await (const message of channel.messages) {\n",
              "        // Send a message to notify the kernel that we're ready.\n",
              "        channel.send({})\n",
              "        if (message.buffers) {\n",
              "          for (const buffer of message.buffers) {\n",
              "            buffers.push(buffer);\n",
              "            downloaded += buffer.byteLength;\n",
              "            progress.value = downloaded;\n",
              "          }\n",
              "        }\n",
              "      }\n",
              "      const blob = new Blob(buffers, {type: 'application/binary'});\n",
              "      const a = document.createElement('a');\n",
              "      a.href = window.URL.createObjectURL(blob);\n",
              "      a.download = filename;\n",
              "      div.appendChild(a);\n",
              "      a.click();\n",
              "      div.remove();\n",
              "    }\n",
              "  "
            ]
          },
          "metadata": {}
        },
        {
          "output_type": "display_data",
          "data": {
            "text/plain": [
              "<IPython.core.display.Javascript object>"
            ],
            "application/javascript": [
              "download(\"download_9684dd53-6c58-431f-a5bd-2cbe0ec24bbb\", \"skills_count.csv\", 86)"
            ]
          },
          "metadata": {}
        }
      ]
    },
    {
      "cell_type": "code",
      "source": [
        "print(df['Skills'])"
      ],
      "metadata": {
        "colab": {
          "base_uri": "https://localhost:8080/"
        },
        "id": "MzUk9_saHH9H",
        "outputId": "bf712da0-cc2d-41cb-e9d2-6d8ea7499b5a"
      },
      "execution_count": 15,
      "outputs": [
        {
          "output_type": "stream",
          "name": "stdout",
          "text": [
            "0    [Python, Java, SQL, experience, machine, learn...\n",
            "Name: Skills, dtype: object\n"
          ]
        }
      ]
    },
    {
      "cell_type": "code",
      "source": [
        "# Get the value counts of categories\n",
        "category_counts = resume_data['Category'].value_counts()"
      ],
      "metadata": {
        "id": "ueIk8QbMHscr"
      },
      "execution_count": 16,
      "outputs": []
    },
    {
      "cell_type": "code",
      "source": [
        "from google.colab import files\n",
        "\n",
        "# Save the DataFrame to a CSV file\n",
        "category_counts_df.to_csv('category_counts.csv', index=False)\n",
        "\n",
        "# Download the CSV file\n",
        "files.download('category_counts.csv')"
      ],
      "metadata": {
        "colab": {
          "base_uri": "https://localhost:8080/",
          "height": 17
        },
        "id": "ky5KXjxuH_bf",
        "outputId": "f7841ef3-8218-45b7-e35b-8326091981a2"
      },
      "execution_count": 20,
      "outputs": [
        {
          "output_type": "display_data",
          "data": {
            "text/plain": [
              "<IPython.core.display.Javascript object>"
            ],
            "application/javascript": [
              "\n",
              "    async function download(id, filename, size) {\n",
              "      if (!google.colab.kernel.accessAllowed) {\n",
              "        return;\n",
              "      }\n",
              "      const div = document.createElement('div');\n",
              "      const label = document.createElement('label');\n",
              "      label.textContent = `Downloading \"${filename}\": `;\n",
              "      div.appendChild(label);\n",
              "      const progress = document.createElement('progress');\n",
              "      progress.max = size;\n",
              "      div.appendChild(progress);\n",
              "      document.body.appendChild(div);\n",
              "\n",
              "      const buffers = [];\n",
              "      let downloaded = 0;\n",
              "\n",
              "      const channel = await google.colab.kernel.comms.open(id);\n",
              "      // Send a message to notify the kernel that we're ready.\n",
              "      channel.send({})\n",
              "\n",
              "      for await (const message of channel.messages) {\n",
              "        // Send a message to notify the kernel that we're ready.\n",
              "        channel.send({})\n",
              "        if (message.buffers) {\n",
              "          for (const buffer of message.buffers) {\n",
              "            buffers.push(buffer);\n",
              "            downloaded += buffer.byteLength;\n",
              "            progress.value = downloaded;\n",
              "          }\n",
              "        }\n",
              "      }\n",
              "      const blob = new Blob(buffers, {type: 'application/binary'});\n",
              "      const a = document.createElement('a');\n",
              "      a.href = window.URL.createObjectURL(blob);\n",
              "      a.download = filename;\n",
              "      div.appendChild(a);\n",
              "      a.click();\n",
              "      div.remove();\n",
              "    }\n",
              "  "
            ]
          },
          "metadata": {}
        },
        {
          "output_type": "display_data",
          "data": {
            "text/plain": [
              "<IPython.core.display.Javascript object>"
            ],
            "application/javascript": [
              "download(\"download_a34d0847-2f89-4ec2-80fc-278cc35913f0\", \"category_counts.csv\", 361)"
            ]
          },
          "metadata": {}
        }
      ]
    },
    {
      "cell_type": "code",
      "source": [
        "def count_resumes_with_skill(category, skill):\n",
        "    # Filter the dataset by category\n",
        "    category_data = resume_data[resume_data['Category'] == category]\n",
        "\n",
        "    # Apply extract_skills function to each resume in the category\n",
        "    category_data['Skills'] = category_data['Resume_str'].apply(extract_skills)\n",
        "\n",
        "    # Count the number of resumes containing the skill\n",
        "    num_resumes_with_skill = category_data['Skills'].apply(lambda x: skill in x).sum()\n",
        "\n",
        "    return num_resumes_with_skill"
      ],
      "metadata": {
        "id": "MEabUHa6Mj1M"
      },
      "execution_count": 28,
      "outputs": []
    },
    {
      "cell_type": "code",
      "source": [
        "# Define categories\n",
        "categories = resume_data['Category'].unique()\n"
      ],
      "metadata": {
        "id": "XYlz5i8aMmSV"
      },
      "execution_count": 29,
      "outputs": []
    },
    {
      "cell_type": "code",
      "source": [
        "# Initialize an empty dictionary to store results\n",
        "results = {'Category': [], 'Skill': [], 'Num_Resumes_with_Skill': []}"
      ],
      "metadata": {
        "id": "rUmS_IyqMoA_"
      },
      "execution_count": 30,
      "outputs": []
    },
    {
      "cell_type": "code",
      "source": [
        "for category in categories:\n",
        "    # Get unique skills for the category\n",
        "    unique_skills = set()\n",
        "    category_data = resume_data[resume_data['Category'] == category].copy()  # Create a copy of the DataFrame\n",
        "    category_data['Skills'] = category_data['Resume_str'].apply(extract_skills)\n",
        "\n",
        "    # Count the number of resumes containing each skill\n",
        "    for skill in unique_skills:\n",
        "        num_resumes_with_skill = count_resumes_with_skill(category, skill)\n",
        "        results['Category'].append(category)\n",
        "        results['Skill'].append(skill)\n",
        "        results['Num_Resumes_with_Skill'].append(num_resumes_with_skill)"
      ],
      "metadata": {
        "id": "V9-GX34SMqMm"
      },
      "execution_count": 35,
      "outputs": []
    },
    {
      "cell_type": "code",
      "source": [
        "# Create DataFrame from results\n",
        "skills_count_df = pd.DataFrame(results)"
      ],
      "metadata": {
        "id": "MINS516eMsP6"
      },
      "execution_count": null,
      "outputs": []
    },
    {
      "cell_type": "code",
      "source": [
        "# Save the result to a CSV file\n",
        "skills_count_df.to_csv('skills_count.csv', index=False)"
      ],
      "metadata": {
        "id": "nnXZ7cAYMuDl"
      },
      "execution_count": null,
      "outputs": []
    },
    {
      "cell_type": "code",
      "source": [
        "from google.colab import files\n",
        "\n",
        "\n",
        "# Download the CSV file\n",
        "files.download('skills_count_category.csv')"
      ],
      "metadata": {
        "colab": {
          "base_uri": "https://localhost:8080/",
          "height": 34
        },
        "id": "DkpfNFuAO4B8",
        "outputId": "4b7b7dd2-4277-4cf9-b927-6c88467f957a"
      },
      "execution_count": 42,
      "outputs": [
        {
          "output_type": "display_data",
          "data": {
            "text/plain": [
              "<IPython.core.display.Javascript object>"
            ],
            "application/javascript": [
              "\n",
              "    async function download(id, filename, size) {\n",
              "      if (!google.colab.kernel.accessAllowed) {\n",
              "        return;\n",
              "      }\n",
              "      const div = document.createElement('div');\n",
              "      const label = document.createElement('label');\n",
              "      label.textContent = `Downloading \"${filename}\": `;\n",
              "      div.appendChild(label);\n",
              "      const progress = document.createElement('progress');\n",
              "      progress.max = size;\n",
              "      div.appendChild(progress);\n",
              "      document.body.appendChild(div);\n",
              "\n",
              "      const buffers = [];\n",
              "      let downloaded = 0;\n",
              "\n",
              "      const channel = await google.colab.kernel.comms.open(id);\n",
              "      // Send a message to notify the kernel that we're ready.\n",
              "      channel.send({})\n",
              "\n",
              "      for await (const message of channel.messages) {\n",
              "        // Send a message to notify the kernel that we're ready.\n",
              "        channel.send({})\n",
              "        if (message.buffers) {\n",
              "          for (const buffer of message.buffers) {\n",
              "            buffers.push(buffer);\n",
              "            downloaded += buffer.byteLength;\n",
              "            progress.value = downloaded;\n",
              "          }\n",
              "        }\n",
              "      }\n",
              "      const blob = new Blob(buffers, {type: 'application/binary'});\n",
              "      const a = document.createElement('a');\n",
              "      a.href = window.URL.createObjectURL(blob);\n",
              "      a.download = filename;\n",
              "      div.appendChild(a);\n",
              "      a.click();\n",
              "      div.remove();\n",
              "    }\n",
              "  "
            ]
          },
          "metadata": {}
        },
        {
          "output_type": "display_data",
          "data": {
            "text/plain": [
              "<IPython.core.display.Javascript object>"
            ],
            "application/javascript": [
              "download(\"download_1b97e1c3-f76d-42fa-be5e-b7b4048b21ae\", \"skills_count_category.csv\", 3721)"
            ]
          },
          "metadata": {}
        }
      ]
    }
  ]
}